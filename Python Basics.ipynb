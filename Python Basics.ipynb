{
 "cells": [
  {
   "cell_type": "markdown",
   "id": "33956be4",
   "metadata": {},
   "source": [
    "#### [Question1] \n",
    "\n",
    "a) Create a string variable called my_str containing the following sentence: Python programming is fun and powerful! <br>\n",
    "b) Find the length of my_str. <br>\n",
    "c) Replace \"fun\" in my_str with \"exciting.\" Store this back in my_str and print my_str <br>\n",
    "d) Find the index of the word powerful in my_str <br>\n",
    "e) Split the string into a list of words (google which function can help you do this). Store this in my_str_to_list and print it"
   ]
  },
  {
   "cell_type": "code",
   "execution_count": 12,
   "id": "4dfe59e8",
   "metadata": {},
   "outputs": [],
   "source": [
    "# create my_str below\n",
    "\n",
    "my_str = \"Python programming is fun and powerful!\""
   ]
  },
  {
   "cell_type": "code",
   "execution_count": 10,
   "id": "33b969da",
   "metadata": {},
   "outputs": [
    {
     "data": {
      "text/plain": [
       "39"
      ]
     },
     "execution_count": 10,
     "metadata": {},
     "output_type": "execute_result"
    }
   ],
   "source": [
    "# find out the length of my_str. no need to store this anywhere\n",
    "\n",
    "len(my_str)"
   ]
  },
  {
   "cell_type": "code",
   "execution_count": 17,
   "id": "b45d1a3b",
   "metadata": {},
   "outputs": [
    {
     "name": "stdout",
     "output_type": "stream",
     "text": [
      "Python programming is exciting and powerful!\n"
     ]
    }
   ],
   "source": [
    "# update my_str so it has the word exciting instead of fun. print my_str at the end\n",
    "\n",
    "my_str = my_str.replace(\"fun\", \"exciting\")\n",
    "print(my_str)"
   ]
  },
  {
   "cell_type": "code",
   "execution_count": 18,
   "id": "4c67c03c",
   "metadata": {},
   "outputs": [
    {
     "data": {
      "text/plain": [
       "35"
      ]
     },
     "execution_count": 18,
     "metadata": {},
     "output_type": "execute_result"
    }
   ],
   "source": [
    "# find the index of the word powerful in my_str\n",
    "\n",
    "my_str.index(\"powerful\")"
   ]
  },
  {
   "cell_type": "code",
   "execution_count": 19,
   "id": "bdfffa17",
   "metadata": {},
   "outputs": [
    {
     "name": "stdout",
     "output_type": "stream",
     "text": [
      "['Python', 'programming', 'is', 'exciting', 'and', 'powerful!']\n"
     ]
    }
   ],
   "source": [
    "# create my_str_to_list and store my_str split into a list of words in this. print my_str_to_list\n",
    "# by default the split function takes any white space as a delimeter\n",
    "\n",
    "my_str_to_list = my_str.split()\n",
    "print(my_str_to_list)"
   ]
  },
  {
   "cell_type": "markdown",
   "id": "2235471f",
   "metadata": {},
   "source": [
    "#### [Question2]\n",
    "Given a variable called Celsius with the value 108.6, convert it to Fahrenheit. Google the formula for celcius to fahrenheit conversion. Print out Fahrenheit. "
   ]
  },
  {
   "cell_type": "code",
   "execution_count": 20,
   "id": "3364767a",
   "metadata": {},
   "outputs": [
    {
     "name": "stdout",
     "output_type": "stream",
     "text": [
      "227.48\n"
     ]
    }
   ],
   "source": [
    "Celsius = 108.6\n",
    "\n",
    "Fahrenheit =  (Celsius * (9/5)) + 32\n",
    "\n",
    "\n",
    "#print out Fahrenheit below\n",
    "\n",
    "print(Fahrenheit)"
   ]
  },
  {
   "cell_type": "markdown",
   "id": "f7069988",
   "metadata": {},
   "source": [
    "#### [Question3]\n",
    "\n",
    "A university wants to write a program that will help them decide the eligibility of each applicant. The conditions are: \n",
    "- all admits must be 18 or older in age\n",
    "- if their GPA is 3.0 or above, they are eligible. If their GPA is 2.8 or above, they are eligible based on a performance test. Otherwise they are not eligible. \n",
    "\n",
    "\n",
    "Given the three lists names, ages and GPA:\n",
    "\n",
    "Write a for loop that will print out the following three things in each iteration:\n",
    "\n",
    "- Student (insert name) has age (insert age) and GPA (insert GPA)\n",
    "- Eligible for admission/ Eligible for admission based on performance test/ Not eligible for admission\n",
    "- New line\n",
    "\n",
    "example:\n",
    "\n",
    "Student Hassan Ali has age 19 and GPA 3.0 <br>\n",
    "Eligible for admission"
   ]
  },
  {
   "cell_type": "code",
   "execution_count": 24,
   "id": "3bd3d902",
   "metadata": {},
   "outputs": [
    {
     "name": "stdout",
     "output_type": "stream",
     "text": [
      "Student Hassan Ali has age 19 and GPA 3.0\n",
      "Eligible for admission\n",
      "\n",
      "Student Rabbiya Sarmad has age 17 and GPA 3.9\n",
      "Not eligible for admission\n",
      "\n",
      "Student Zara Haq has age 15 and GPA 2.5\n",
      "Not eligible for admission\n",
      "\n",
      "Student Hussain Rafay has age 21 and GPA 3.1\n",
      "Eligible for admission\n",
      "\n",
      "Student Dua Hamid has age 18 and GPA 2.9\n",
      "Eligible for admission based on performance test\n",
      "\n"
     ]
    }
   ],
   "source": [
    "names = ['Hassan Ali', 'Rabbiya Sarmad', 'Zara Haq', 'Hussain Rafay', 'Dua Hamid']\n",
    "ages = [19, 17, 15, 21, 18, 20]\n",
    "GPA = [3.0, 3.9, 2.5, 3.1, 2.9]\n",
    "\n",
    "\n",
    "# Write your for loop below:\n",
    "\n",
    "for i in range(len(names)):\n",
    "    if ages[i]>=18 and GPA[i]>=3.0:\n",
    "        print(f\"Student {names[i]} has age {ages[i]} and GPA {GPA[i]}\")\n",
    "        print(\"Eligible for admission\")\n",
    "        print()\n",
    "    elif ages[i]>=18 and GPA[i]>=2.8:\n",
    "        print(f\"Student {names[i]} has age {ages[i]} and GPA {GPA[i]}\")\n",
    "        print(\"Eligible for admission based on performance test\")\n",
    "        print()\n",
    "    else:\n",
    "        print(f\"Student {names[i]} has age {ages[i]} and GPA {GPA[i]}\")\n",
    "        print(\"Not eligible for admission\")\n",
    "        print()        "
   ]
  },
  {
   "cell_type": "markdown",
   "id": "893405b9",
   "metadata": {},
   "source": [
    "#### [Question 4]\n",
    "\n",
    "Given the following list called numbers:\n",
    "\n",
    "a) Convert it into a tuple and print it. <br>\n",
    "b) Calculate the sum of this tuple. Store it in sum_numbers. print sum_numbers <br>\n",
    "c) Using slicing, fetch every odd indexed element from numbers <br>\n",
    "d) Create new **lists** called evens and odds. Using ONE for loop, add every even integer from the numbers tuple to evens and every odd number to odds. in the end, print numbers, evens and odds. <br>\n",
    "e) Would it be possible to do this if evens and odds were tuples instead of lists?"
   ]
  },
  {
   "cell_type": "code",
   "execution_count": 4,
   "id": "f0e87e0d",
   "metadata": {},
   "outputs": [
    {
     "name": "stdout",
     "output_type": "stream",
     "text": [
      "(12, 34, 45, 67, 89, 100, 23, 56)\n"
     ]
    }
   ],
   "source": [
    "numbers =  [12, 34, 45, 67, 89, 100, 23, 56]\n",
    "\n",
    "#convert numbers into a tuple below and print numbers\n",
    "\n",
    "tuples = tuple(numbers)\n",
    "print(tuples)"
   ]
  },
  {
   "cell_type": "code",
   "execution_count": 5,
   "id": "a41a80cb",
   "metadata": {},
   "outputs": [
    {
     "name": "stdout",
     "output_type": "stream",
     "text": [
      "426\n"
     ]
    }
   ],
   "source": [
    "# create sum_numbers and store the sum of numbers in it. print sum_numbers\n",
    "\n",
    "sum_numbers = 0\n",
    "\n",
    "for i in range(len(tuples)):\n",
    "    sum_numbers = sum_numbers + tuples[i]\n",
    "\n",
    "print(sum_numbers)"
   ]
  },
  {
   "cell_type": "code",
   "execution_count": 6,
   "id": "5908766a",
   "metadata": {},
   "outputs": [
    {
     "name": "stdout",
     "output_type": "stream",
     "text": [
      "34\n",
      "67\n",
      "100\n",
      "56\n"
     ]
    }
   ],
   "source": [
    "# fetch every odd indexed element from numbers below. No need to store this anywhere, just show output\n",
    "\n",
    "for i in range(1, len(tuples), 2):\n",
    "    print(tuples[i])"
   ]
  },
  {
   "cell_type": "code",
   "execution_count": 33,
   "id": "027c59f5",
   "metadata": {},
   "outputs": [
    {
     "name": "stdout",
     "output_type": "stream",
     "text": [
      "[12, 34, 100, 56]\n",
      "[45, 67, 89, 23]\n"
     ]
    }
   ],
   "source": [
    "# create empty lists called evens and odds below:\n",
    "\n",
    "evens = []\n",
    "odds = []\n",
    "\n",
    "# write a single for loop to add integers from the numbers tuple to evens and odds lists below:\n",
    "\n",
    "for i in range(len(tuples)):\n",
    "    if tuples[i] % 2 == 0:\n",
    "        evens.append(tuples[i])\n",
    "    else:\n",
    "        odds.append(tuples[i])\n",
    "\n",
    "\n",
    "# print out numbers, evens and odd below\n",
    "\n",
    "print(evens)\n",
    "print(odds)"
   ]
  },
  {
   "cell_type": "code",
   "execution_count": null,
   "id": "4f801920",
   "metadata": {},
   "outputs": [],
   "source": [
    "# comment if the above would be possible to do if evens and odds were tuples instead of lists?\n",
    "\n",
    "# No, it would not have been possible. We can't add, remove or change elements to a tuple after it has been declared. Tuples are immutable."
   ]
  },
  {
   "cell_type": "markdown",
   "id": "b0bf88d8",
   "metadata": {},
   "source": [
    "#### [Question 5]\n",
    "\n",
    "a) Create a list called fruits containing the following fruits: apple, banana, orange, grape, kiwi, mango <br>\n",
    "b) Using a for loop, update every single item in fruits so that the first letter is capitalized. Print fruits at the end"
   ]
  },
  {
   "cell_type": "code",
   "execution_count": 38,
   "id": "0d1aed0e",
   "metadata": {},
   "outputs": [
    {
     "name": "stdout",
     "output_type": "stream",
     "text": [
      "['Apple', 'Banana', 'Orange', 'Grape', 'Kiwi', 'Mango']\n"
     ]
    }
   ],
   "source": [
    "# create fruits below\n",
    "\n",
    "fruits = [\"apple\", \"banana\", \"orange\", \"grape\", \"kiwi\", \"mango\"]\n",
    "\n",
    "# write a for loop to capitalize every element in fruits below\n",
    "\n",
    "for i in range(len(fruits)):\n",
    "    fruits[i] = fruits[i].capitalize()\n",
    "\n",
    "\n",
    "#print updated fruits below\n",
    "\n",
    "print(fruits)"
   ]
  },
  {
   "cell_type": "markdown",
   "id": "57fe7528",
   "metadata": {},
   "source": [
    "#### [Question 6]\n",
    "\n",
    "a) Create a dictionary named \"capitals\" with three key-value pairs: \"USA\" - \"Washington DC\", \"France\" - \"Paris\",  and \"Japan\" - \"Tokyo\". Print the dictionary. <br>\n",
    "b) Add a new country and its capital to the \"capitals\" dictionary. The country is \"Germany\" and the capital is \"Berlin\". Print the updated dictionary. <br>\n",
    "c) Check if \"France\" exists in the \"capitals\" dictionary. If it does, print \"France is in the dictionary\" otherwise, print \"France is not in the dictionary\" (hint: you will need to use the keyword in)"
   ]
  },
  {
   "cell_type": "code",
   "execution_count": 39,
   "id": "fe365bbe",
   "metadata": {},
   "outputs": [],
   "source": [
    "# create the dictionary capitals below with its key:value pairs and print it\n",
    "\n",
    "capitals = {\"USA\":\"Washington DC\", \"France\":\"Paris\", \"Japan\":\"Tokyo\"}"
   ]
  },
  {
   "cell_type": "code",
   "execution_count": 40,
   "id": "d219c2ce",
   "metadata": {},
   "outputs": [
    {
     "name": "stdout",
     "output_type": "stream",
     "text": [
      "{'USA': 'Washington DC', 'France': 'Paris', 'Japan': 'Tokyo', 'Germany': 'Berlin'}\n"
     ]
    }
   ],
   "source": [
    "# add germany to capitals below and print updated dictionary\n",
    "\n",
    "capitals[\"Germany\"]=\"Berlin\"\n",
    "print(capitals)"
   ]
  },
  {
   "cell_type": "code",
   "execution_count": 47,
   "id": "65940d65",
   "metadata": {},
   "outputs": [
    {
     "name": "stdout",
     "output_type": "stream",
     "text": [
      "France is in the dictionary\n"
     ]
    }
   ],
   "source": [
    "# check if france is in the dictionary and print \"France is in the dictionary\" or \"France is not in the dictionary\"\n",
    "\n",
    "if \"France\" in capitals:\n",
    "    print(\"France is in the dictionary\")\n",
    "else:\n",
    "    print(\"France is not in the dictionary\")"
   ]
  }
 ],
 "metadata": {
  "kernelspec": {
   "display_name": "Python 3 (ipykernel)",
   "language": "python",
   "name": "python3"
  },
  "language_info": {
   "codemirror_mode": {
    "name": "ipython",
    "version": 3
   },
   "file_extension": ".py",
   "mimetype": "text/x-python",
   "name": "python",
   "nbconvert_exporter": "python",
   "pygments_lexer": "ipython3",
   "version": "3.11.7"
  }
 },
 "nbformat": 4,
 "nbformat_minor": 5
}
